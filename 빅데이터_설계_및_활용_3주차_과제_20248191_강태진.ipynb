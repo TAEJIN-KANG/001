{
  "nbformat": 4,
  "nbformat_minor": 0,
  "metadata": {
    "colab": {
      "provenance": [],
      "authorship_tag": "ABX9TyPlT89tew73OufP94/ix91S",
      "include_colab_link": true
    },
    "kernelspec": {
      "name": "python3",
      "display_name": "Python 3"
    },
    "language_info": {
      "name": "python"
    }
  },
  "cells": [
    {
      "cell_type": "markdown",
      "metadata": {
        "id": "view-in-github",
        "colab_type": "text"
      },
      "source": [
        "<a href=\"https://colab.research.google.com/github/TAEJIN-KANG/001/blob/main/%EB%B9%85%EB%8D%B0%EC%9D%B4%ED%84%B0_%EC%84%A4%EA%B3%84_%EB%B0%8F_%ED%99%9C%EC%9A%A9_3%EC%A3%BC%EC%B0%A8_%EA%B3%BC%EC%A0%9C_20248191_%EA%B0%95%ED%83%9C%EC%A7%84.ipynb\" target=\"_parent\"><img src=\"https://colab.research.google.com/assets/colab-badge.svg\" alt=\"Open In Colab\"/></a>"
      ]
    },
    {
      "cell_type": "code",
      "execution_count": null,
      "metadata": {
        "colab": {
          "base_uri": "https://localhost:8080/"
        },
        "id": "j--1zIVmjx6D",
        "outputId": "7c6aefdd-b239-4e4f-af1f-32c3622d18f1"
      },
      "outputs": [
        {
          "output_type": "stream",
          "name": "stdout",
          "text": [
            "주어진 튜플: (1, 2, 5, 4, 3, 2, 1, 4, 7, 8, 9, 9, 3, 7, 3)\n",
            "가장 많이 나타나는 요소는:  3\n"
          ]
        }
      ],
      "source": [
        "tup = 1, 2, 5, 4, 3, 2, 1, 4, 7, 8, 9, 9, 3, 7, 3\n",
        "print('주어진 튜플:',tup)\n",
        "temp = sorted(list(tup))\n",
        "\n",
        "max_count = 1\n",
        "count = 1\n",
        "cur_value = max_value = temp[0]\n",
        "\n",
        "for i in range(1, len(temp)):\n",
        "  if temp[i] is cur_value:\n",
        "    count += 1\n",
        "    if count >= max_count:\n",
        "      max_count = count\n",
        "      max_value = cur_value\n",
        "  else:\n",
        "    cur_value = temp[i]\n",
        "    count = 1\n",
        "\n",
        "print('가장 많이 나타나는 요소는: ',max_value)"
      ]
    },
    {
      "cell_type": "code",
      "source": [
        "sales = (100, 121, 120, 130, 140, 120, 122, 123, 190, 125)\n",
        "drop = 0\n",
        "\n",
        "for i in range( len(sales)-1 ):\n",
        "  if sales[i] > sales[i+1]:\n",
        "    drop += 1\n",
        "\n",
        "print('일일 매출 기록: ', sales)\n",
        "print('지난 {}일 동안 전일대비 매출이 감소한 날은 {}일입니다.'.format(len(sales), drop))\n"
      ],
      "metadata": {
        "colab": {
          "base_uri": "https://localhost:8080/"
        },
        "id": "Fh6Vb1qaxdbJ",
        "outputId": "2ffe1dca-194d-4d99-98c4-d8cdc6d8998f"
      },
      "execution_count": null,
      "outputs": [
        {
          "output_type": "stream",
          "name": "stdout",
          "text": [
            "일일 매출 기록:  (100, 121, 120, 130, 140, 120, 122, 123, 190, 125)\n",
            "지난 10일 동안 전일대비 매출이 감소한 날은 3일입니다.\n"
          ]
        }
      ]
    },
    {
      "cell_type": "code",
      "source": [
        "# 메뉴 딕셔너리 작성\n",
        "menu = {\n",
        "    'Americano': 3000,\n",
        "    'Ice Americano': 3500,\n",
        "    'Cappuccino': 4000,\n",
        "    'Caffe Latte': 4500,\n",
        "    'Espresso': 3600\n",
        "}\n",
        "\n",
        "# 메뉴 출력\n",
        "for key in menu:\n",
        "    print(\"{:16s}  가격 : {:,}원\".format(key, menu[key]))\n",
        "\n",
        "choice = input('위의 메뉴중 하나를 선택하세요: ')\n",
        "if choice in menu.keys():\n",
        "     print('{}는 {:,}원 입니다. 결제를 부탁합니다.'.format(choice, menu[choice]))\n",
        "else:\n",
        "     print('미안합니다. {}는 메뉴에 없습니다'.format(choice))"
      ],
      "metadata": {
        "colab": {
          "base_uri": "https://localhost:8080/"
        },
        "id": "ucJDO_auA2Mk",
        "outputId": "3294b1cb-b729-46fa-8a3f-980bce5b09c7"
      },
      "execution_count": null,
      "outputs": [
        {
          "output_type": "stream",
          "name": "stdout",
          "text": [
            "Americano         가격 : 3,000원\n",
            "Ice Americano     가격 : 3,500원\n",
            "Cappuccino        가격 : 4,000원\n",
            "Caffe Latte       가격 : 4,500원\n",
            "Espresso          가격 : 3,600원\n",
            "위의 메뉴중 하나를 선택하세요: Americano\n",
            "Americano는 3,000원 입니다. 결제를 부탁합니다.\n"
          ]
        }
      ]
    },
    {
      "cell_type": "code",
      "source": [
        "s_list= ['abc', 'bcd', 'bcdefg', 'abba', 'cddc', 'opq']\n",
        "min_len= len(s_list[0]);\n",
        "min_s= s_list[0]\n",
        "\n",
        "for s in s_list:\n",
        "  l = len(s)\n",
        "  if min_len> l:\n",
        "    min_len= l\n",
        "    min_s= s\n",
        "\n",
        "print('가장 길이가 짧은 문자열 :', min_s)"
      ],
      "metadata": {
        "colab": {
          "base_uri": "https://localhost:8080/"
        },
        "id": "yOX9mgL7Bar3",
        "outputId": "8801fb69-5471-4ce6-84df-9621787b639c"
      },
      "execution_count": 6,
      "outputs": [
        {
          "output_type": "stream",
          "name": "stdout",
          "text": [
            "가장 길이가 짧은 문자열 : abc\n"
          ]
        }
      ]
    },
    {
      "cell_type": "code",
      "source": [
        "s_list= ['abc', 'bcd', 'bcdefg', 'abba', 'cddc', 'opq']\n",
        "s_list.sort(key=len)\n",
        "group_list= []\n",
        "min_len= len(s_list[0])\n",
        "# print(s_list)\n",
        "\n",
        "for s in s_list:\n",
        "  if min_len== len(s):\n",
        "    group_list.append(s)\n",
        "\n",
        "print(\"가장 길이가 짧은 문자열 : '{}', '{}'', '{}'\".format(group_list[0],group_list[1],group_list[2]))"
      ],
      "metadata": {
        "colab": {
          "base_uri": "https://localhost:8080/"
        },
        "id": "f2DoGQY8t5LR",
        "outputId": "daf4d09f-a8a2-4f19-da50-337b5d53ca8e"
      },
      "execution_count": 7,
      "outputs": [
        {
          "output_type": "stream",
          "name": "stdout",
          "text": [
            "가장 길이가 짧은 문자열 : 'abc', 'bcd'', 'opq'\n"
          ]
        }
      ]
    }
  ]
}