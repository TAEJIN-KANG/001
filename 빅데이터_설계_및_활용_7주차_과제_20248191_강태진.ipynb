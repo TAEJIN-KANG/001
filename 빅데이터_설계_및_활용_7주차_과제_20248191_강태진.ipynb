{
  "nbformat": 4,
  "nbformat_minor": 0,
  "metadata": {
    "colab": {
      "provenance": [],
      "authorship_tag": "ABX9TyM+6OCLub4MAQgkKmrGha+k",
      "include_colab_link": true
    },
    "kernelspec": {
      "name": "python3",
      "display_name": "Python 3"
    },
    "language_info": {
      "name": "python"
    }
  },
  "cells": [
    {
      "cell_type": "markdown",
      "metadata": {
        "id": "view-in-github",
        "colab_type": "text"
      },
      "source": [
        "<a href=\"https://colab.research.google.com/github/TAEJIN-KANG/001/blob/main/%EB%B9%85%EB%8D%B0%EC%9D%B4%ED%84%B0_%EC%84%A4%EA%B3%84_%EB%B0%8F_%ED%99%9C%EC%9A%A9_7%EC%A3%BC%EC%B0%A8_%EA%B3%BC%EC%A0%9C_20248191_%EA%B0%95%ED%83%9C%EC%A7%84.ipynb\" target=\"_parent\"><img src=\"https://colab.research.google.com/assets/colab-badge.svg\" alt=\"Open In Colab\"/></a>"
      ]
    },
    {
      "cell_type": "code",
      "execution_count": 2,
      "metadata": {
        "colab": {
          "base_uri": "https://localhost:8080/",
          "height": 449
        },
        "id": "M8_LKLc5PbWW",
        "outputId": "ab29bfea-81ed-4c24-f479-54928869d1bd"
      },
      "outputs": [
        {
          "output_type": "display_data",
          "data": {
            "text/plain": [
              "<Figure size 640x480 with 1 Axes>"
            ],
            "image/png": "[encoded data removed]"
          },
          "metadata": {}
        }
      ],
      "source": [
        "import pandas as pd\n",
        "import numpy as np\n",
        "import matplotlib.pyplot as plt\n",
        "\n",
        "path = 'https://github.com/dongupak/DataML/raw/main/csv/'\n",
        "weather_file = path + 'weather.csv'\n",
        "weather = pd.read_csv(weather_file, encoding='CP949')\n",
        "weather['month'] = pd.DatetimeIndex(weather['일시']).month\n",
        "\n",
        "monthly = [None for x in range(12)]\n",
        "monthly_wind = [0 for x in range(12)]\n",
        "\n",
        "for i in range(12):\n",
        "    monthly[i] = weather[weather['month'] == i+1]\n",
        "    monthly_wind[i] = monthly[i]['평균풍속'].mean()\n",
        "\n",
        "months = np.arange(1,13)\n",
        "plt.bar(months, monthly_wind, color='red')\n",
        "plt.xlabel('month')\n",
        "plt.ylabel('speed')\n",
        "plt.show()"
      ]
    }
  ]
}