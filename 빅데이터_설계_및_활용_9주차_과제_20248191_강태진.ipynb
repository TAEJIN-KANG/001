{
  "nbformat": 4,
  "nbformat_minor": 0,
  "metadata": {
    "colab": {
      "provenance": [],
      "authorship_tag": "ABX9TyPQ/hgTDQjmLbpIbuguz+HQ",
      "include_colab_link": true
    },
    "kernelspec": {
      "name": "python3",
      "display_name": "Python 3"
    },
    "language_info": {
      "name": "python"
    }
  },
  "cells": [
    {
      "cell_type": "markdown",
      "metadata": {
        "id": "view-in-github",
        "colab_type": "text"
      },
      "source": [
        "<a href=\"https://colab.research.google.com/github/TAEJIN-KANG/001/blob/main/%EB%B9%85%EB%8D%B0%EC%9D%B4%ED%84%B0_%EC%84%A4%EA%B3%84_%EB%B0%8F_%ED%99%9C%EC%9A%A9_9%EC%A3%BC%EC%B0%A8_%EA%B3%BC%EC%A0%9C_20248191_%EA%B0%95%ED%83%9C%EC%A7%84.ipynb\" target=\"_parent\"><img src=\"https://colab.research.google.com/assets/colab-badge.svg\" alt=\"Open In Colab\"/></a>"
      ]
    },
    {
      "cell_type": "code",
      "execution_count": 15,
      "metadata": {
        "colab": {
          "base_uri": "https://localhost:8080/"
        },
        "id": "ig01peBEIt5j",
        "outputId": "6d9238e7-5929-4a2a-a041-5c72534ce0c5"
      },
      "outputs": [
        {
          "output_type": "stream",
          "name": "stdout",
          "text": [
            "Mounted at /content/drive\n",
            "   id name             email             phone  \\\n",
            "0   1  홍길동  hong@example.com  +82-10-1234-5678   \n",
            "1   2  김철수   kim@example.com  +82-10-8765-4321   \n",
            "\n",
            "                             address  \n",
            "0  {'city': '서울', 'country': '대한민국'}  \n",
            "1  {'city': '부산', 'country': '대한민국'}  \n"
          ]
        }
      ],
      "source": [
        "import pandas as pd\n",
        "import json\n",
        "\n",
        "# 구글 드라이브 마운트\n",
        "from google.colab import drive\n",
        "drive.mount('/content/drive')\n",
        "\n",
        "# 파일 경로 지정\n",
        "json_file_path = '/content/drive/MyDrive/jsonData/custom.json'\n",
        "\n",
        "# JSON 파일 읽기\n",
        "with open(json_file_path, 'r', encoding='utf-8') as f:\n",
        "    json_data = json.load(f)\n",
        "\n",
        "df = pd.DataFrame(json_data)\n",
        "print(df.head())"
      ]
    },
    {
      "cell_type": "code",
      "source": [
        "import pandas as pd\n",
        "import xml.etree.ElementTree as ET\n",
        "\n",
        "xml_file_path = '/content/drive/MyDrive/xmlData/book.xml'\n",
        "\n",
        "# XML 파일 파싱\n",
        "tree = ET.parse(xml_file_path)\n",
        "\n",
        "root = tree.getroot()\n",
        "\n",
        "# DataFrame 초기화\n",
        "columns = ['title', 'author', 'price', 'genre']\n",
        "df = pd.DataFrame(columns=columns)\n",
        "\n",
        "# 각 book 요소 반복\n",
        "for book in root.findall('book'):\n",
        "    row = {\n",
        "        'title': book.find('title').text,\n",
        "        'author': book.find('author').text,\n",
        "        'price': float(book.find('price').text),\n",
        "        'genre': book.find('genre').text\n",
        "    }\n",
        "    new_df = pd.DataFrame([row])\n",
        "    df = pd.concat([df, new_df], ignore_index=True)\n",
        "\n",
        "print(df.head())"
      ],
      "metadata": {
        "colab": {
          "base_uri": "https://localhost:8080/"
        },
        "id": "8BTlCzZaPsZr",
        "outputId": "84577618-0de1-4d87-a964-4a3259926d51"
      },
      "execution_count": 22,
      "outputs": [
        {
          "output_type": "stream",
          "name": "stdout",
          "text": [
            "                   title          author  price    genre\n",
            "0    Pride and Prejudice     Jane Austen  19.99  romance\n",
            "1  To Kill a Mockingbird      Harper Lee  14.99  fiction\n",
            "2  The Lord of the Rings  J.R.R. Tolkien  34.99  fantasy\n"
          ]
        },
        {
          "output_type": "stream",
          "name": "stderr",
          "text": [
            "<ipython-input-22-562ff7043cc6>:24: FutureWarning: The behavior of DataFrame concatenation with empty or all-NA entries is deprecated. In a future version, this will no longer exclude empty or all-NA columns when determining the result dtypes. To retain the old behavior, exclude the relevant entries before the concat operation.\n",
            "  df = pd.concat([df, new_df], ignore_index=True)\n"
          ]
        }
      ]
    }
  ]
}