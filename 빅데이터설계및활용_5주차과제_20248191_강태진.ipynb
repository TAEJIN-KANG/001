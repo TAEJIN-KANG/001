{
  "nbformat": 4,
  "nbformat_minor": 0,
  "metadata": {
    "colab": {
      "provenance": [],
      "authorship_tag": "ABX9TyP9L7rd1Ip3acxHsOIIHqKd",
      "include_colab_link": true
    },
    "kernelspec": {
      "name": "python3",
      "display_name": "Python 3"
    },
    "language_info": {
      "name": "python"
    }
  },
  "cells": [
    {
      "cell_type": "markdown",
      "metadata": {
        "id": "view-in-github",
        "colab_type": "text"
      },
      "source": [
        "<a href=\"https://colab.research.google.com/github/TAEJIN-KANG/001/blob/main/%EB%B9%85%EB%8D%B0%EC%9D%B4%ED%84%B0%EC%84%A4%EA%B3%84%EB%B0%8F%ED%99%9C%EC%9A%A9_5%EC%A3%BC%EC%B0%A8%EA%B3%BC%EC%A0%9C_20248191_%EA%B0%95%ED%83%9C%EC%A7%84.ipynb\" target=\"_parent\"><img src=\"https://colab.research.google.com/assets/colab-badge.svg\" alt=\"Open In Colab\"/></a>"
      ]
    },
    {
      "cell_type": "code",
      "execution_count": 1,
      "metadata": {
        "colab": {
          "base_uri": "https://localhost:8080/"
        },
        "id": "mf1uErcocQsM",
        "outputId": "fea89cd9-c0dc-4dbd-d3ad-992c4104dd7f"
      },
      "outputs": [
        {
          "output_type": "stream",
          "name": "stdout",
          "text": [
            "Lotto Results:\n",
            " [[40 15 13 31 26  2]\n",
            " [11  4 26 19 16 35]\n",
            " [12 28 44 25 27  2]]\n"
          ]
        }
      ],
      "source": [
        "import random  # 파이썬 내장 random 모듈을 가져옵니다.\n",
        "import numpy as np  # NumPy 라이브러리를 가져옵니다.\n",
        "\n",
        "# 로또 결과를 저장할 빈 리스트를 만듭니다.\n",
        "lotto_results = []\n",
        "\n",
        "# 번호 추출을 3번 반복합니다.\n",
        "for _ in range(3):\n",
        "    # 1부터 45까지의 숫자를 포함하는 리스트를 만듭니다.\n",
        "    a = list(range(1, 46))\n",
        "\n",
        "    # 리스트를 무작위로 섞습니다.\n",
        "    random.shuffle(a)\n",
        "\n",
        "    # 섞인 리스트에서 처음 6개의 숫자를 선택합니다.\n",
        "    lotto = a[:6]\n",
        "\n",
        "    # 선택된 로또 번호를 결과 리스트에 추가합니다.\n",
        "    lotto_results.append(lotto)\n",
        "\n",
        "# 결과 리스트를 NumPy 배열로 변환하여 (3, 6) 형태로 만듭니다.\n",
        "lotto_array = np.array(lotto_results)\n",
        "\n",
        "# 로또 결과를 출력합니다.\n",
        "print('Lotto Results:\\n', lotto_array)"
      ]
    },
    {
      "cell_type": "code",
      "source": [
        "import numpy as np\n",
        "# 3차원 배열의 크기를 지정합니다.\n",
        "shape = (3, 3, 6)\n",
        "# 3차원 배열을 생성합니다.\n",
        "arr = np.random.randint(0, 20, shape)\n",
        "# 3차원 배열을 출력합니다.\n",
        "print(arr)"
      ],
      "metadata": {
        "colab": {
          "base_uri": "https://localhost:8080/"
        },
        "id": "lpqh92u5fHOu",
        "outputId": "8b5feae1-87cb-4bb9-fcff-9a968d5ec676"
      },
      "execution_count": 2,
      "outputs": [
        {
          "output_type": "stream",
          "name": "stdout",
          "text": [
            "[[[ 6 18  3  3  9  9]\n",
            "  [ 9  2  9  8 10  5]\n",
            "  [ 4 19  2 15 10 16]]\n",
            "\n",
            " [[10 12  7  7 19  1]\n",
            "  [10  8  4 10 14  6]\n",
            "  [11  8 11 16  2  5]]\n",
            "\n",
            " [[11  9 15  5  0 13]\n",
            "  [ 1 18 18  0 12  5]\n",
            "  [ 1  2  6  6 16  9]]]\n"
          ]
        }
      ]
    },
    {
      "cell_type": "code",
      "source": [
        "import numpy as np\n",
        "# 2차원 배열의 크기를 지정합니다.\n",
        "shape = (5, 6)\n",
        "# 2차원 배열을 생성합니다.\n",
        "arr = np.random.randint(0, 100, shape)\n",
        "# 2차원 배열을 출력합니다.\n",
        "print(arr)"
      ],
      "metadata": {
        "colab": {
          "base_uri": "https://localhost:8080/"
        },
        "id": "w5H6ORHNfJdy",
        "outputId": "d85df763-c56e-4b20-d154-60d56e97c61e"
      },
      "execution_count": 3,
      "outputs": [
        {
          "output_type": "stream",
          "name": "stdout",
          "text": [
            "[[ 6  7 38 50 52  6]\n",
            " [61 52 39 81 45 46]\n",
            " [25  1 94 20 68  5]\n",
            " [19 89 71 54 37 61]\n",
            " [13 23 53 31 61 33]]\n"
          ]
        }
      ]
    },
    {
      "cell_type": "code",
      "source": [
        "import numpy as np\n",
        "\n",
        "# 0부터 47까지의 값을 생성\n",
        "temp = np.arange(48)\n",
        "\n",
        "# 랜덤하게 섞기\n",
        "np.random.shuffle(temp)\n",
        "\n",
        "# 3차원 배열로 변환 (4, 3, 4)\n",
        "array_3d = temp.reshape((4, 3, 4))\n",
        "\n",
        "# 결과 출력\n",
        "print(\"3차원 배열:\\n\", array_3d)"
      ],
      "metadata": {
        "colab": {
          "base_uri": "https://localhost:8080/"
        },
        "id": "nqAGT7UgfWRx",
        "outputId": "07b2d5ba-8501-4675-ebc0-d95e04daac74"
      },
      "execution_count": 4,
      "outputs": [
        {
          "output_type": "stream",
          "name": "stdout",
          "text": [
            "3차원 배열:\n",
            " [[[34  4 29  8]\n",
            "  [21 14 13 45]\n",
            "  [16  2 47 20]]\n",
            "\n",
            " [[15 11  3 46]\n",
            "  [35 42 28 12]\n",
            "  [10  6 27 36]]\n",
            "\n",
            " [[30 26 43 39]\n",
            "  [22 33 31 41]\n",
            "  [ 9 17 18 25]]\n",
            "\n",
            " [[40 44  1 32]\n",
            "  [ 5 23 19 37]\n",
            "  [24  7 38  0]]]\n"
          ]
        }
      ]
    },
    {
      "cell_type": "code",
      "source": [
        "import numpy as np\n",
        "\n",
        "# 0부터 47까지의 값을 생성\n",
        "temp = np.arange(48)\n",
        "\n",
        "# 랜덤하게 섞기\n",
        "np.random.shuffle(temp)\n",
        "\n",
        "# 2차원 배열로 변환 (6, 8)\n",
        "array_2d = temp.reshape((6, 8))\n",
        "\n",
        "# 결과 출력\n",
        "print(\"2차원 배열:\\n\", array_2d)"
      ],
      "metadata": {
        "colab": {
          "base_uri": "https://localhost:8080/"
        },
        "id": "S7vmzkQgfYyA",
        "outputId": "3791f7e0-adb7-46ec-f108-b76412953841"
      },
      "execution_count": 5,
      "outputs": [
        {
          "output_type": "stream",
          "name": "stdout",
          "text": [
            "2차원 배열:\n",
            " [[ 1 45 39  0 31 32 34  2]\n",
            " [ 4 40 25  3 35 46  6 23]\n",
            " [30 42  8 28 13 41 16 36]\n",
            " [ 7 38 47 10 29 43 21 22]\n",
            " [17 11  9 44 20  5 37 24]\n",
            " [27 26 14 15 19 18 12 33]]\n"
          ]
        }
      ]
    }
  ]
}